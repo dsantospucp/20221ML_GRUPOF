# Descargar la data
!wget https://archive.ics.uci.edu/ml/machine-learning-databases/00603/in-vehicle-coupon-recommendation.csv
# Leer la data
import pandas as pd
data = pd.read_csv('/content/in-vehicle-coupon-recommendation.csv')
data.head()
