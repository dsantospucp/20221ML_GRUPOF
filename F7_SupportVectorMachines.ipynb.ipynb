{
  "nbformat": 4,
  "nbformat_minor": 0,
  "metadata": {
    "colab": {
      "name": "F7_SupportVectorMachines.ipynb.ipynb",
      "provenance": [],
      "collapsed_sections": []
    },
    "kernelspec": {
      "name": "python3",
      "display_name": "Python 3"
    },
    "language_info": {
      "name": "python"
    }
  },
  "cells": [
    {
      "cell_type": "markdown",
      "source": [
        "# 1. Importación de librerías"
      ],
      "metadata": {
        "id": "4tnaJV_mcKpf"
      }
    },
    {
      "cell_type": "code",
      "source": [
        "#Librerías a utilizar\n",
        "\n",
        "import pandas as pd\n",
        "pd.set_option(\"display.max_columns\", 50)\n",
        "\n",
        "import numpy as np\n",
        "\n",
        "import seaborn as sns\n",
        "\n",
        "import matplotlib.pyplot as plt\n",
        "%matplotlib inline\n",
        "\n",
        "import pickle\n",
        "\n",
        "from sklearn.tree import DecisionTreeClassifier\n",
        "from sklearn.tree import DecisionTreeRegressor\n",
        "from sklearn.ensemble import RandomForestRegressor\n",
        "from sklearn.model_selection import train_test_split\n",
        "from sklearn.metrics import mean_squared_error\n",
        "from sklearn.base import clone"
      ],
      "metadata": {
        "id": "TDE_wzvUiczF"
      },
      "execution_count": 1,
      "outputs": []
    },
    {
      "cell_type": "markdown",
      "source": [
        "#2. Importación del Dataset"
      ],
      "metadata": {
        "id": "nn8AZPUOInWy"
      }
    },
    {
      "cell_type": "code",
      "execution_count": 2,
      "metadata": {
        "id": "vSw8a5A3Xwmn"
      },
      "outputs": [],
      "source": [
        "# Descargar la data\n",
        "#!wget https://archive.ics.uci.edu/ml/machine-learning-databases/00603/in-vehicle-coupon-recommendation.csv\n",
        "#!ls -l\n",
        "#dataset = pd.read_csv('/content/in-vehicle-coupon-recommendation.csv')\n",
        "dataset = pd.read_csv('https://archive.ics.uci.edu/ml/machine-learning-databases/00603/in-vehicle-coupon-recommendation.csv')"
      ]
    },
    {
      "cell_type": "markdown",
      "source": [
        "#3. Revisión del Dataset"
      ],
      "metadata": {
        "id": "7mbFiRFgLFeg"
      }
    },
    {
      "cell_type": "code",
      "source": [
        "#Visualizar la cabecera\n",
        "dataset.head()"
      ],
      "metadata": {
        "colab": {
          "base_uri": "https://localhost:8080/",
          "height": 444
        },
        "id": "gKjRUyRfd1d5",
        "outputId": "e2a10eee-d0ea-43c9-e460-95da7ed6b836"
      },
      "execution_count": 3,
      "outputs": [
        {
          "output_type": "execute_result",
          "data": {
            "text/plain": [
              "       destination  passanger weather  temperature  time  \\\n",
              "0  No Urgent Place      Alone   Sunny           55   2PM   \n",
              "1  No Urgent Place  Friend(s)   Sunny           80  10AM   \n",
              "2  No Urgent Place  Friend(s)   Sunny           80  10AM   \n",
              "3  No Urgent Place  Friend(s)   Sunny           80   2PM   \n",
              "4  No Urgent Place  Friend(s)   Sunny           80   2PM   \n",
              "\n",
              "                  coupon expiration  gender age      maritalStatus  \\\n",
              "0        Restaurant(<20)         1d  Female  21  Unmarried partner   \n",
              "1           Coffee House         2h  Female  21  Unmarried partner   \n",
              "2  Carry out & Take away         2h  Female  21  Unmarried partner   \n",
              "3           Coffee House         2h  Female  21  Unmarried partner   \n",
              "4           Coffee House         1d  Female  21  Unmarried partner   \n",
              "\n",
              "   has_children                 education  occupation           income  car  \\\n",
              "0             1  Some college - no degree  Unemployed  $37500 - $49999  NaN   \n",
              "1             1  Some college - no degree  Unemployed  $37500 - $49999  NaN   \n",
              "2             1  Some college - no degree  Unemployed  $37500 - $49999  NaN   \n",
              "3             1  Some college - no degree  Unemployed  $37500 - $49999  NaN   \n",
              "4             1  Some college - no degree  Unemployed  $37500 - $49999  NaN   \n",
              "\n",
              "     Bar CoffeeHouse CarryAway RestaurantLessThan20 Restaurant20To50  \\\n",
              "0  never       never       NaN                  4~8              1~3   \n",
              "1  never       never       NaN                  4~8              1~3   \n",
              "2  never       never       NaN                  4~8              1~3   \n",
              "3  never       never       NaN                  4~8              1~3   \n",
              "4  never       never       NaN                  4~8              1~3   \n",
              "\n",
              "   toCoupon_GEQ5min  toCoupon_GEQ15min  toCoupon_GEQ25min  direction_same  \\\n",
              "0                 1                  0                  0               0   \n",
              "1                 1                  0                  0               0   \n",
              "2                 1                  1                  0               0   \n",
              "3                 1                  1                  0               0   \n",
              "4                 1                  1                  0               0   \n",
              "\n",
              "   direction_opp  Y  \n",
              "0              1  1  \n",
              "1              1  0  \n",
              "2              1  1  \n",
              "3              1  0  \n",
              "4              1  0  "
            ],
            "text/html": [
              "\n",
              "  <div id=\"df-2be230b1-1434-4d15-b493-1d51e4903f06\">\n",
              "    <div class=\"colab-df-container\">\n",
              "      <div>\n",
              "<style scoped>\n",
              "    .dataframe tbody tr th:only-of-type {\n",
              "        vertical-align: middle;\n",
              "    }\n",
              "\n",
              "    .dataframe tbody tr th {\n",
              "        vertical-align: top;\n",
              "    }\n",
              "\n",
              "    .dataframe thead th {\n",
              "        text-align: right;\n",
              "    }\n",
              "</style>\n",
              "<table border=\"1\" class=\"dataframe\">\n",
              "  <thead>\n",
              "    <tr style=\"text-align: right;\">\n",
              "      <th></th>\n",
              "      <th>destination</th>\n",
              "      <th>passanger</th>\n",
              "      <th>weather</th>\n",
              "      <th>temperature</th>\n",
              "      <th>time</th>\n",
              "      <th>coupon</th>\n",
              "      <th>expiration</th>\n",
              "      <th>gender</th>\n",
              "      <th>age</th>\n",
              "      <th>maritalStatus</th>\n",
              "      <th>has_children</th>\n",
              "      <th>education</th>\n",
              "      <th>occupation</th>\n",
              "      <th>income</th>\n",
              "      <th>car</th>\n",
              "      <th>Bar</th>\n",
              "      <th>CoffeeHouse</th>\n",
              "      <th>CarryAway</th>\n",
              "      <th>RestaurantLessThan20</th>\n",
              "      <th>Restaurant20To50</th>\n",
              "      <th>toCoupon_GEQ5min</th>\n",
              "      <th>toCoupon_GEQ15min</th>\n",
              "      <th>toCoupon_GEQ25min</th>\n",
              "      <th>direction_same</th>\n",
              "      <th>direction_opp</th>\n",
              "      <th>Y</th>\n",
              "    </tr>\n",
              "  </thead>\n",
              "  <tbody>\n",
              "    <tr>\n",
              "      <th>0</th>\n",
              "      <td>No Urgent Place</td>\n",
              "      <td>Alone</td>\n",
              "      <td>Sunny</td>\n",
              "      <td>55</td>\n",
              "      <td>2PM</td>\n",
              "      <td>Restaurant(&lt;20)</td>\n",
              "      <td>1d</td>\n",
              "      <td>Female</td>\n",
              "      <td>21</td>\n",
              "      <td>Unmarried partner</td>\n",
              "      <td>1</td>\n",
              "      <td>Some college - no degree</td>\n",
              "      <td>Unemployed</td>\n",
              "      <td>$37500 - $49999</td>\n",
              "      <td>NaN</td>\n",
              "      <td>never</td>\n",
              "      <td>never</td>\n",
              "      <td>NaN</td>\n",
              "      <td>4~8</td>\n",
              "      <td>1~3</td>\n",
              "      <td>1</td>\n",
              "      <td>0</td>\n",
              "      <td>0</td>\n",
              "      <td>0</td>\n",
              "      <td>1</td>\n",
              "      <td>1</td>\n",
              "    </tr>\n",
              "    <tr>\n",
              "      <th>1</th>\n",
              "      <td>No Urgent Place</td>\n",
              "      <td>Friend(s)</td>\n",
              "      <td>Sunny</td>\n",
              "      <td>80</td>\n",
              "      <td>10AM</td>\n",
              "      <td>Coffee House</td>\n",
              "      <td>2h</td>\n",
              "      <td>Female</td>\n",
              "      <td>21</td>\n",
              "      <td>Unmarried partner</td>\n",
              "      <td>1</td>\n",
              "      <td>Some college - no degree</td>\n",
              "      <td>Unemployed</td>\n",
              "      <td>$37500 - $49999</td>\n",
              "      <td>NaN</td>\n",
              "      <td>never</td>\n",
              "      <td>never</td>\n",
              "      <td>NaN</td>\n",
              "      <td>4~8</td>\n",
              "      <td>1~3</td>\n",
              "      <td>1</td>\n",
              "      <td>0</td>\n",
              "      <td>0</td>\n",
              "      <td>0</td>\n",
              "      <td>1</td>\n",
              "      <td>0</td>\n",
              "    </tr>\n",
              "    <tr>\n",
              "      <th>2</th>\n",
              "      <td>No Urgent Place</td>\n",
              "      <td>Friend(s)</td>\n",
              "      <td>Sunny</td>\n",
              "      <td>80</td>\n",
              "      <td>10AM</td>\n",
              "      <td>Carry out &amp; Take away</td>\n",
              "      <td>2h</td>\n",
              "      <td>Female</td>\n",
              "      <td>21</td>\n",
              "      <td>Unmarried partner</td>\n",
              "      <td>1</td>\n",
              "      <td>Some college - no degree</td>\n",
              "      <td>Unemployed</td>\n",
              "      <td>$37500 - $49999</td>\n",
              "      <td>NaN</td>\n",
              "      <td>never</td>\n",
              "      <td>never</td>\n",
              "      <td>NaN</td>\n",
              "      <td>4~8</td>\n",
              "      <td>1~3</td>\n",
              "      <td>1</td>\n",
              "      <td>1</td>\n",
              "      <td>0</td>\n",
              "      <td>0</td>\n",
              "      <td>1</td>\n",
              "      <td>1</td>\n",
              "    </tr>\n",
              "    <tr>\n",
              "      <th>3</th>\n",
              "      <td>No Urgent Place</td>\n",
              "      <td>Friend(s)</td>\n",
              "      <td>Sunny</td>\n",
              "      <td>80</td>\n",
              "      <td>2PM</td>\n",
              "      <td>Coffee House</td>\n",
              "      <td>2h</td>\n",
              "      <td>Female</td>\n",
              "      <td>21</td>\n",
              "      <td>Unmarried partner</td>\n",
              "      <td>1</td>\n",
              "      <td>Some college - no degree</td>\n",
              "      <td>Unemployed</td>\n",
              "      <td>$37500 - $49999</td>\n",
              "      <td>NaN</td>\n",
              "      <td>never</td>\n",
              "      <td>never</td>\n",
              "      <td>NaN</td>\n",
              "      <td>4~8</td>\n",
              "      <td>1~3</td>\n",
              "      <td>1</td>\n",
              "      <td>1</td>\n",
              "      <td>0</td>\n",
              "      <td>0</td>\n",
              "      <td>1</td>\n",
              "      <td>0</td>\n",
              "    </tr>\n",
              "    <tr>\n",
              "      <th>4</th>\n",
              "      <td>No Urgent Place</td>\n",
              "      <td>Friend(s)</td>\n",
              "      <td>Sunny</td>\n",
              "      <td>80</td>\n",
              "      <td>2PM</td>\n",
              "      <td>Coffee House</td>\n",
              "      <td>1d</td>\n",
              "      <td>Female</td>\n",
              "      <td>21</td>\n",
              "      <td>Unmarried partner</td>\n",
              "      <td>1</td>\n",
              "      <td>Some college - no degree</td>\n",
              "      <td>Unemployed</td>\n",
              "      <td>$37500 - $49999</td>\n",
              "      <td>NaN</td>\n",
              "      <td>never</td>\n",
              "      <td>never</td>\n",
              "      <td>NaN</td>\n",
              "      <td>4~8</td>\n",
              "      <td>1~3</td>\n",
              "      <td>1</td>\n",
              "      <td>1</td>\n",
              "      <td>0</td>\n",
              "      <td>0</td>\n",
              "      <td>1</td>\n",
              "      <td>0</td>\n",
              "    </tr>\n",
              "  </tbody>\n",
              "</table>\n",
              "</div>\n",
              "      <button class=\"colab-df-convert\" onclick=\"convertToInteractive('df-2be230b1-1434-4d15-b493-1d51e4903f06')\"\n",
              "              title=\"Convert this dataframe to an interactive table.\"\n",
              "              style=\"display:none;\">\n",
              "        \n",
              "  <svg xmlns=\"http://www.w3.org/2000/svg\" height=\"24px\"viewBox=\"0 0 24 24\"\n",
              "       width=\"24px\">\n",
              "    <path d=\"M0 0h24v24H0V0z\" fill=\"none\"/>\n",
              "    <path d=\"M18.56 5.44l.94 2.06.94-2.06 2.06-.94-2.06-.94-.94-2.06-.94 2.06-2.06.94zm-11 1L8.5 8.5l.94-2.06 2.06-.94-2.06-.94L8.5 2.5l-.94 2.06-2.06.94zm10 10l.94 2.06.94-2.06 2.06-.94-2.06-.94-.94-2.06-.94 2.06-2.06.94z\"/><path d=\"M17.41 7.96l-1.37-1.37c-.4-.4-.92-.59-1.43-.59-.52 0-1.04.2-1.43.59L10.3 9.45l-7.72 7.72c-.78.78-.78 2.05 0 2.83L4 21.41c.39.39.9.59 1.41.59.51 0 1.02-.2 1.41-.59l7.78-7.78 2.81-2.81c.8-.78.8-2.07 0-2.86zM5.41 20L4 18.59l7.72-7.72 1.47 1.35L5.41 20z\"/>\n",
              "  </svg>\n",
              "      </button>\n",
              "      \n",
              "  <style>\n",
              "    .colab-df-container {\n",
              "      display:flex;\n",
              "      flex-wrap:wrap;\n",
              "      gap: 12px;\n",
              "    }\n",
              "\n",
              "    .colab-df-convert {\n",
              "      background-color: #E8F0FE;\n",
              "      border: none;\n",
              "      border-radius: 50%;\n",
              "      cursor: pointer;\n",
              "      display: none;\n",
              "      fill: #1967D2;\n",
              "      height: 32px;\n",
              "      padding: 0 0 0 0;\n",
              "      width: 32px;\n",
              "    }\n",
              "\n",
              "    .colab-df-convert:hover {\n",
              "      background-color: #E2EBFA;\n",
              "      box-shadow: 0px 1px 2px rgba(60, 64, 67, 0.3), 0px 1px 3px 1px rgba(60, 64, 67, 0.15);\n",
              "      fill: #174EA6;\n",
              "    }\n",
              "\n",
              "    [theme=dark] .colab-df-convert {\n",
              "      background-color: #3B4455;\n",
              "      fill: #D2E3FC;\n",
              "    }\n",
              "\n",
              "    [theme=dark] .colab-df-convert:hover {\n",
              "      background-color: #434B5C;\n",
              "      box-shadow: 0px 1px 3px 1px rgba(0, 0, 0, 0.15);\n",
              "      filter: drop-shadow(0px 1px 2px rgba(0, 0, 0, 0.3));\n",
              "      fill: #FFFFFF;\n",
              "    }\n",
              "  </style>\n",
              "\n",
              "      <script>\n",
              "        const buttonEl =\n",
              "          document.querySelector('#df-2be230b1-1434-4d15-b493-1d51e4903f06 button.colab-df-convert');\n",
              "        buttonEl.style.display =\n",
              "          google.colab.kernel.accessAllowed ? 'block' : 'none';\n",
              "\n",
              "        async function convertToInteractive(key) {\n",
              "          const element = document.querySelector('#df-2be230b1-1434-4d15-b493-1d51e4903f06');\n",
              "          const dataTable =\n",
              "            await google.colab.kernel.invokeFunction('convertToInteractive',\n",
              "                                                     [key], {});\n",
              "          if (!dataTable) return;\n",
              "\n",
              "          const docLinkHtml = 'Like what you see? Visit the ' +\n",
              "            '<a target=\"_blank\" href=https://colab.research.google.com/notebooks/data_table.ipynb>data table notebook</a>'\n",
              "            + ' to learn more about interactive tables.';\n",
              "          element.innerHTML = '';\n",
              "          dataTable['output_type'] = 'display_data';\n",
              "          await google.colab.output.renderOutput(dataTable, element);\n",
              "          const docLink = document.createElement('div');\n",
              "          docLink.innerHTML = docLinkHtml;\n",
              "          element.appendChild(docLink);\n",
              "        }\n",
              "      </script>\n",
              "    </div>\n",
              "  </div>\n",
              "  "
            ]
          },
          "metadata": {},
          "execution_count": 3
        }
      ]
    },
    {
      "cell_type": "code",
      "source": [
        "#Visualizar datos generales\n",
        "print(\"**************************************************\")\n",
        "print(\"Dimensiones\")\n",
        "print(\"**************************************************\")\n",
        "print(dataset.shape)\n",
        "print(\"\\n\")\n",
        "print(\"**************************************************\")\n",
        "print(\"Detalle de Columnas\")\n",
        "print(\"**************************************************\")\n",
        "print(dataset.info())\n",
        "print(\"\\n\")\n",
        "print(\"**************************************************\")\n",
        "print(\"Detalle del target\")\n",
        "print(\"**************************************************\")\n",
        "print(dataset.Y.value_counts())\n",
        "print(dataset.Y.value_counts()/len(dataset))"
      ],
      "metadata": {
        "colab": {
          "base_uri": "https://localhost:8080/"
        },
        "id": "WmaIOQPQM5nW",
        "outputId": "727d136d-abad-4ef7-c74a-85f860629d4c"
      },
      "execution_count": 4,
      "outputs": [
        {
          "output_type": "stream",
          "name": "stdout",
          "text": [
            "**************************************************\n",
            "Dimensiones\n",
            "**************************************************\n",
            "(12684, 26)\n",
            "\n",
            "\n",
            "**************************************************\n",
            "Detalle de Columnas\n",
            "**************************************************\n",
            "<class 'pandas.core.frame.DataFrame'>\n",
            "RangeIndex: 12684 entries, 0 to 12683\n",
            "Data columns (total 26 columns):\n",
            " #   Column                Non-Null Count  Dtype \n",
            "---  ------                --------------  ----- \n",
            " 0   destination           12684 non-null  object\n",
            " 1   passanger             12684 non-null  object\n",
            " 2   weather               12684 non-null  object\n",
            " 3   temperature           12684 non-null  int64 \n",
            " 4   time                  12684 non-null  object\n",
            " 5   coupon                12684 non-null  object\n",
            " 6   expiration            12684 non-null  object\n",
            " 7   gender                12684 non-null  object\n",
            " 8   age                   12684 non-null  object\n",
            " 9   maritalStatus         12684 non-null  object\n",
            " 10  has_children          12684 non-null  int64 \n",
            " 11  education             12684 non-null  object\n",
            " 12  occupation            12684 non-null  object\n",
            " 13  income                12684 non-null  object\n",
            " 14  car                   108 non-null    object\n",
            " 15  Bar                   12577 non-null  object\n",
            " 16  CoffeeHouse           12467 non-null  object\n",
            " 17  CarryAway             12533 non-null  object\n",
            " 18  RestaurantLessThan20  12554 non-null  object\n",
            " 19  Restaurant20To50      12495 non-null  object\n",
            " 20  toCoupon_GEQ5min      12684 non-null  int64 \n",
            " 21  toCoupon_GEQ15min     12684 non-null  int64 \n",
            " 22  toCoupon_GEQ25min     12684 non-null  int64 \n",
            " 23  direction_same        12684 non-null  int64 \n",
            " 24  direction_opp         12684 non-null  int64 \n",
            " 25  Y                     12684 non-null  int64 \n",
            "dtypes: int64(8), object(18)\n",
            "memory usage: 2.5+ MB\n",
            "None\n",
            "\n",
            "\n",
            "**************************************************\n",
            "Detalle del target\n",
            "**************************************************\n",
            "1    7210\n",
            "0    5474\n",
            "Name: Y, dtype: int64\n",
            "1    0.568433\n",
            "0    0.431567\n",
            "Name: Y, dtype: float64\n"
          ]
        }
      ]
    },
    {
      "cell_type": "code",
      "source": [
        "#Deficiencias del dataset: Nulos\n",
        "print(\"**************************************************\")\n",
        "print(\"Detalle de Nulos\")\n",
        "print(\"**************************************************\")\n",
        "print(dataset.isnull().sum())\n",
        "print(\"\\n\")\n",
        "#Análisis de nulos\n",
        "print(\"**************************************************\")\n",
        "print(\"Análisis de Nulos\")\n",
        "print(\"**************************************************\")\n",
        "nulos = dataset.isna().sum()/len(dataset)*100\n",
        "nulos[nulos>0].sort_values(ascending = False)"
      ],
      "metadata": {
        "colab": {
          "base_uri": "https://localhost:8080/"
        },
        "id": "IbhN8DJ4deU1",
        "outputId": "33b75680-8177-4517-9e24-9ad8836d5785"
      },
      "execution_count": 5,
      "outputs": [
        {
          "output_type": "stream",
          "name": "stdout",
          "text": [
            "**************************************************\n",
            "Detalle de Nulos\n",
            "**************************************************\n",
            "destination                 0\n",
            "passanger                   0\n",
            "weather                     0\n",
            "temperature                 0\n",
            "time                        0\n",
            "coupon                      0\n",
            "expiration                  0\n",
            "gender                      0\n",
            "age                         0\n",
            "maritalStatus               0\n",
            "has_children                0\n",
            "education                   0\n",
            "occupation                  0\n",
            "income                      0\n",
            "car                     12576\n",
            "Bar                       107\n",
            "CoffeeHouse               217\n",
            "CarryAway                 151\n",
            "RestaurantLessThan20      130\n",
            "Restaurant20To50          189\n",
            "toCoupon_GEQ5min            0\n",
            "toCoupon_GEQ15min           0\n",
            "toCoupon_GEQ25min           0\n",
            "direction_same              0\n",
            "direction_opp               0\n",
            "Y                           0\n",
            "dtype: int64\n",
            "\n",
            "\n",
            "**************************************************\n",
            "Análisis de Nulos\n",
            "**************************************************\n"
          ]
        },
        {
          "output_type": "execute_result",
          "data": {
            "text/plain": [
              "car                     99.148534\n",
              "CoffeeHouse              1.710817\n",
              "Restaurant20To50         1.490066\n",
              "CarryAway                1.190476\n",
              "RestaurantLessThan20     1.024913\n",
              "Bar                      0.843582\n",
              "dtype: float64"
            ]
          },
          "metadata": {},
          "execution_count": 5
        }
      ]
    },
    {
      "cell_type": "code",
      "source": [
        "#Visualización de nulos\n",
        "sns.heatmap(dataset.isnull(),cbar=False)"
      ],
      "metadata": {
        "colab": {
          "base_uri": "https://localhost:8080/",
          "height": 392
        },
        "id": "VHiyxDLzmO9W",
        "outputId": "f4b3e0d0-1e53-4e22-c15c-faf35a534c60"
      },
      "execution_count": 6,
      "outputs": [
        {
          "output_type": "execute_result",
          "data": {
            "text/plain": [
              "<matplotlib.axes._subplots.AxesSubplot at 0x7f2d47bf9750>"
            ]
          },
          "metadata": {},
          "execution_count": 6
        },
        {
          "output_type": "display_data",
          "data": {
            "text/plain": [
              "<Figure size 432x288 with 1 Axes>"
            ],
            "image/png": "[encoded data removed]"
          },
          "metadata": {
            "needs_background": "light"
          }
        }
      ]
    },
    {
      "cell_type": "code",
      "source": [
        "#Deficiencias del dataset: Campos índice (cantidad=cercano al universo) o que no aportan información (cantidad = 1)\n",
        "print(\"**************************************************\")\n",
        "print(\"Detalle de posibles campos índice o que no aportan información\")\n",
        "print(\"**************************************************\")\n",
        "print(dataset.nunique())\n",
        "print(\"\\n\")\n",
        "#Análisis de campos que no aportan información\n",
        "print(\"**************************************************\")\n",
        "print(\"Análisis de campos que no aportan información\")\n",
        "print(\"**************************************************\")\n",
        "dataset.nunique()==1"
      ],
      "metadata": {
        "colab": {
          "base_uri": "https://localhost:8080/"
        },
        "id": "TsBAmTbhkiKW",
        "outputId": "ea6cd188-5cb3-42b4-f092-d1e85c2ae704"
      },
      "execution_count": 7,
      "outputs": [
        {
          "output_type": "stream",
          "name": "stdout",
          "text": [
            "**************************************************\n",
            "Detalle de posibles campos índice o que no aportan información\n",
            "**************************************************\n",
            "destination              3\n",
            "passanger                4\n",
            "weather                  3\n",
            "temperature              3\n",
            "time                     5\n",
            "coupon                   5\n",
            "expiration               2\n",
            "gender                   2\n",
            "age                      8\n",
            "maritalStatus            5\n",
            "has_children             2\n",
            "education                6\n",
            "occupation              25\n",
            "income                   9\n",
            "car                      5\n",
            "Bar                      5\n",
            "CoffeeHouse              5\n",
            "CarryAway                5\n",
            "RestaurantLessThan20     5\n",
            "Restaurant20To50         5\n",
            "toCoupon_GEQ5min         1\n",
            "toCoupon_GEQ15min        2\n",
            "toCoupon_GEQ25min        2\n",
            "direction_same           2\n",
            "direction_opp            2\n",
            "Y                        2\n",
            "dtype: int64\n",
            "\n",
            "\n",
            "**************************************************\n",
            "Análisis de campos que no aportan información\n",
            "**************************************************\n"
          ]
        },
        {
          "output_type": "execute_result",
          "data": {
            "text/plain": [
              "destination             False\n",
              "passanger               False\n",
              "weather                 False\n",
              "temperature             False\n",
              "time                    False\n",
              "coupon                  False\n",
              "expiration              False\n",
              "gender                  False\n",
              "age                     False\n",
              "maritalStatus           False\n",
              "has_children            False\n",
              "education               False\n",
              "occupation              False\n",
              "income                  False\n",
              "car                     False\n",
              "Bar                     False\n",
              "CoffeeHouse             False\n",
              "CarryAway               False\n",
              "RestaurantLessThan20    False\n",
              "Restaurant20To50        False\n",
              "toCoupon_GEQ5min         True\n",
              "toCoupon_GEQ15min       False\n",
              "toCoupon_GEQ25min       False\n",
              "direction_same          False\n",
              "direction_opp           False\n",
              "Y                       False\n",
              "dtype: bool"
            ]
          },
          "metadata": {},
          "execution_count": 7
        }
      ]
    },
    {
      "cell_type": "markdown",
      "source": [
        "#4. Depuración del Dataset"
      ],
      "metadata": {
        "id": "3xvBbN6MM5SG"
      }
    },
    {
      "cell_type": "code",
      "source": [
        "#Eliminación de campos con demasiada información nula (car)\n",
        "dataset = dataset.drop('car', axis = 1)"
      ],
      "metadata": {
        "id": "UnVcCagVhhtF"
      },
      "execution_count": 8,
      "outputs": []
    },
    {
      "cell_type": "code",
      "source": [
        "#Eliminación de campos que no aportan información (toCoupon_GEQ5min)\n",
        "dataset = dataset.drop('toCoupon_GEQ5min', axis = 1)"
      ],
      "metadata": {
        "id": "MP06SGC4m35-"
      },
      "execution_count": 9,
      "outputs": []
    },
    {
      "cell_type": "code",
      "source": [
        "#Eliminamos los registros duplicados\n",
        "dataset.drop_duplicates(keep=\"first\", inplace=True)\n",
        "dataset.shape"
      ],
      "metadata": {
        "colab": {
          "base_uri": "https://localhost:8080/"
        },
        "id": "FzKq7FcCZW09",
        "outputId": "7cffda8a-02af-44ef-9f3b-3c79d969ebd0"
      },
      "execution_count": 10,
      "outputs": [
        {
          "output_type": "execute_result",
          "data": {
            "text/plain": [
              "(12610, 24)"
            ]
          },
          "metadata": {},
          "execution_count": 10
        }
      ]
    },
    {
      "cell_type": "code",
      "source": [
        "#Clasificación de campos categóricos y numéricos\n",
        "numeric_columns = list()\n",
        "categorical_columns = list()\n",
        "dictionary_of_columns_with_index_to_categorical = dict()\n",
        "dictionary_of_columns_with_categorical_to_index = dict()\n",
        "dataset_new = dataset\n",
        "for column in dataset_new:\n",
        "  #Determinamos si la columna (variable) es numérica o no\n",
        "  if pd.api.types.is_numeric_dtype(dataset[column]):\n",
        "    numeric_columns.append(column)\n",
        "  else:\n",
        "    #Modificamos el tipo de dato de la columna (variable) mediante \"astype\"\n",
        "    dataset_new[column] = dataset_new[column].astype(\"category\")\n",
        "\n",
        "    #Verificamos si el tipo de dato de la columna (variable) fue transformado a categórico correctamente\n",
        "    if not pd.api.types.is_categorical_dtype(dataset[column]):\n",
        "      raise Exception(\"La columna {} no se transformó correctamente a categórica\".format(column))\n",
        "\n",
        "    dictionary_of_columns_with_index_to_categorical[column] = dict()\n",
        "    dictionary_of_columns_with_categorical_to_index[column] = dict()\n",
        "    \n",
        "    #Indexamos los valores (categorías), sin tomar en consideración los nulos, de la columna (variable) y guardamos esa información en los diccionarios\n",
        "    for index, category in enumerate(dataset[column].cat.categories):\n",
        "      dictionary_of_columns_with_index_to_categorical[column][index] = category\n",
        "      dictionary_of_columns_with_categorical_to_index[column][category] = index\n",
        "    \n",
        "    categorical_columns.append(column)"
      ],
      "metadata": {
        "id": "Cw0CqwSRn5QO"
      },
      "execution_count": 11,
      "outputs": []
    },
    {
      "cell_type": "code",
      "source": [
        "#Campos numéricos y categóricos\n",
        "print(\"**************************************************\")\n",
        "print(\"Campos numéricos\")\n",
        "print(\"**************************************************\")\n",
        "print(numeric_columns)\n",
        "print(\"\\n\")\n",
        "print(\"**************************************************\")\n",
        "print(\"Campos categóricos\")\n",
        "print(\"**************************************************\")\n",
        "print(categorical_columns)\n"
      ],
      "metadata": {
        "colab": {
          "base_uri": "https://localhost:8080/"
        },
        "id": "Ohnw33pHoTvG",
        "outputId": "718ef254-d70f-45f9-8417-c324a1745483"
      },
      "execution_count": 12,
      "outputs": [
        {
          "output_type": "stream",
          "name": "stdout",
          "text": [
            "**************************************************\n",
            "Campos numéricos\n",
            "**************************************************\n",
            "['temperature', 'has_children', 'toCoupon_GEQ15min', 'toCoupon_GEQ25min', 'direction_same', 'direction_opp', 'Y']\n",
            "\n",
            "\n",
            "**************************************************\n",
            "Campos categóricos\n",
            "**************************************************\n",
            "['destination', 'passanger', 'weather', 'time', 'coupon', 'expiration', 'gender', 'age', 'maritalStatus', 'education', 'occupation', 'income', 'Bar', 'CoffeeHouse', 'CarryAway', 'RestaurantLessThan20', 'Restaurant20To50']\n"
          ]
        }
      ]
    },
    {
      "cell_type": "code",
      "source": [
        "#Visualización de Campos Numéricos\n",
        "width = 13\n",
        "height = 5\n",
        "\n",
        "plt.style.use(\"default\")\n",
        "\n",
        "figure, axes = plt.subplots(nrows=2, ncols=4, figsize=(width, height))\n",
        "\n",
        "for column, axe in zip(dataset[numeric_columns], axes.flatten()):\n",
        "    sns.histplot(dataset[column], ax=axe)\n",
        "    \n",
        "plt.tight_layout()"
      ],
      "metadata": {
        "colab": {
          "base_uri": "https://localhost:8080/",
          "height": 488
        },
        "id": "I7hQrCCIocPd",
        "outputId": "8746bde4-c7f7-4787-c3b3-36d3ea964c0c"
      },
      "execution_count": 13,
      "outputs": [
        {
          "output_type": "display_data",
          "data": {
            "text/plain": [
              "<Figure size 1300x500 with 8 Axes>"
            ],
            "image/png": "[encoded data removed]"
          },
          "metadata": {}
        }
      ]
    },
    {
      "cell_type": "code",
      "source": [
        "# Conversión one hot encoding (data)\n",
        "data = pd.get_dummies(dataset)\n",
        "data.head()"
      ],
      "metadata": {
        "colab": {
          "base_uri": "https://localhost:8080/",
          "height": 334
        },
        "id": "dYieI0NxprZN",
        "outputId": "af5741ed-d408-4cae-c1e1-2a97cc84f803"
      },
      "execution_count": 15,
      "outputs": [
        {
          "output_type": "execute_result",
          "data": {
            "text/plain": [
              "   temperature  has_children  toCoupon_GEQ15min  toCoupon_GEQ25min  \\\n",
              "0           55             1                  0                  0   \n",
              "1           80             1                  0                  0   \n",
              "2           80             1                  1                  0   \n",
              "3           80             1                  1                  0   \n",
              "4           80             1                  1                  0   \n",
              "\n",
              "   direction_same  direction_opp  Y  destination_Home  \\\n",
              "0               0              1  1                 0   \n",
              "1               0              1  0                 0   \n",
              "2               0              1  1                 0   \n",
              "3               0              1  0                 0   \n",
              "4               0              1  0                 0   \n",
              "\n",
              "   destination_No Urgent Place  destination_Work  passanger_Alone  \\\n",
              "0                            1                 0                1   \n",
              "1                            1                 0                0   \n",
              "2                            1                 0                0   \n",
              "3                            1                 0                0   \n",
              "4                            1                 0                0   \n",
              "\n",
              "   passanger_Friend(s)  passanger_Kid(s)  passanger_Partner  weather_Rainy  \\\n",
              "0                    0                 0                  0              0   \n",
              "1                    1                 0                  0              0   \n",
              "2                    1                 0                  0              0   \n",
              "3                    1                 0                  0              0   \n",
              "4                    1                 0                  0              0   \n",
              "\n",
              "   weather_Snowy  weather_Sunny  time_10AM  time_10PM  time_2PM  time_6PM  \\\n",
              "0              0              1          0          0         1         0   \n",
              "1              0              1          1          0         0         0   \n",
              "2              0              1          1          0         0         0   \n",
              "3              0              1          0          0         1         0   \n",
              "4              0              1          0          0         1         0   \n",
              "\n",
              "   time_7AM  coupon_Bar  coupon_Carry out & Take away  coupon_Coffee House  \\\n",
              "0         0           0                             0                    0   \n",
              "1         0           0                             0                    1   \n",
              "2         0           0                             1                    0   \n",
              "3         0           0                             0                    1   \n",
              "4         0           0                             0                    1   \n",
              "\n",
              "   ...  Bar_1~3  Bar_4~8  Bar_gt8  Bar_less1  Bar_never  CoffeeHouse_1~3  \\\n",
              "0  ...        0        0        0          0          1                0   \n",
              "1  ...        0        0        0          0          1                0   \n",
              "2  ...        0        0        0          0          1                0   \n",
              "3  ...        0        0        0          0          1                0   \n",
              "4  ...        0        0        0          0          1                0   \n",
              "\n",
              "   CoffeeHouse_4~8  CoffeeHouse_gt8  CoffeeHouse_less1  CoffeeHouse_never  \\\n",
              "0                0                0                  0                  1   \n",
              "1                0                0                  0                  1   \n",
              "2                0                0                  0                  1   \n",
              "3                0                0                  0                  1   \n",
              "4                0                0                  0                  1   \n",
              "\n",
              "   CarryAway_1~3  CarryAway_4~8  CarryAway_gt8  CarryAway_less1  \\\n",
              "0              0              0              0                0   \n",
              "1              0              0              0                0   \n",
              "2              0              0              0                0   \n",
              "3              0              0              0                0   \n",
              "4              0              0              0                0   \n",
              "\n",
              "   CarryAway_never  RestaurantLessThan20_1~3  RestaurantLessThan20_4~8  \\\n",
              "0                0                         0                         1   \n",
              "1                0                         0                         1   \n",
              "2                0                         0                         1   \n",
              "3                0                         0                         1   \n",
              "4                0                         0                         1   \n",
              "\n",
              "   RestaurantLessThan20_gt8  RestaurantLessThan20_less1  \\\n",
              "0                         0                           0   \n",
              "1                         0                           0   \n",
              "2                         0                           0   \n",
              "3                         0                           0   \n",
              "4                         0                           0   \n",
              "\n",
              "   RestaurantLessThan20_never  Restaurant20To50_1~3  Restaurant20To50_4~8  \\\n",
              "0                           0                     1                     0   \n",
              "1                           0                     1                     0   \n",
              "2                           0                     1                     0   \n",
              "3                           0                     1                     0   \n",
              "4                           0                     1                     0   \n",
              "\n",
              "   Restaurant20To50_gt8  Restaurant20To50_less1  Restaurant20To50_never  \n",
              "0                     0                       0                       0  \n",
              "1                     0                       0                       0  \n",
              "2                     0                       0                       0  \n",
              "3                     0                       0                       0  \n",
              "4                     0                       0                       0  \n",
              "\n",
              "[5 rows x 109 columns]"
            ],
            "text/html": [
              "\n",
              "  <div id=\"df-d1520eb5-9f75-4cd3-a471-54d9d695b9a0\">\n",
              "    <div class=\"colab-df-container\">\n",
              "      <div>\n",
              "<style scoped>\n",
              "    .dataframe tbody tr th:only-of-type {\n",
              "        vertical-align: middle;\n",
              "    }\n",
              "\n",
              "    .dataframe tbody tr th {\n",
              "        vertical-align: top;\n",
              "    }\n",
              "\n",
              "    .dataframe thead th {\n",
              "        text-align: right;\n",
              "    }\n",
              "</style>\n",
              "<table border=\"1\" class=\"dataframe\">\n",
              "  <thead>\n",
              "    <tr style=\"text-align: right;\">\n",
              "      <th></th>\n",
              "      <th>temperature</th>\n",
              "      <th>has_children</th>\n",
              "      <th>toCoupon_GEQ15min</th>\n",
              "      <th>toCoupon_GEQ25min</th>\n",
              "      <th>direction_same</th>\n",
              "      <th>direction_opp</th>\n",
              "      <th>Y</th>\n",
              "      <th>destination_Home</th>\n",
              "      <th>destination_No Urgent Place</th>\n",
              "      <th>destination_Work</th>\n",
              "      <th>passanger_Alone</th>\n",
              "      <th>passanger_Friend(s)</th>\n",
              "      <th>passanger_Kid(s)</th>\n",
              "      <th>passanger_Partner</th>\n",
              "      <th>weather_Rainy</th>\n",
              "      <th>weather_Snowy</th>\n",
              "      <th>weather_Sunny</th>\n",
              "      <th>time_10AM</th>\n",
              "      <th>time_10PM</th>\n",
              "      <th>time_2PM</th>\n",
              "      <th>time_6PM</th>\n",
              "      <th>time_7AM</th>\n",
              "      <th>coupon_Bar</th>\n",
              "      <th>coupon_Carry out &amp; Take away</th>\n",
              "      <th>coupon_Coffee House</th>\n",
              "      <th>...</th>\n",
              "      <th>Bar_1~3</th>\n",
              "      <th>Bar_4~8</th>\n",
              "      <th>Bar_gt8</th>\n",
              "      <th>Bar_less1</th>\n",
              "      <th>Bar_never</th>\n",
              "      <th>CoffeeHouse_1~3</th>\n",
              "      <th>CoffeeHouse_4~8</th>\n",
              "      <th>CoffeeHouse_gt8</th>\n",
              "      <th>CoffeeHouse_less1</th>\n",
              "      <th>CoffeeHouse_never</th>\n",
              "      <th>CarryAway_1~3</th>\n",
              "      <th>CarryAway_4~8</th>\n",
              "      <th>CarryAway_gt8</th>\n",
              "      <th>CarryAway_less1</th>\n",
              "      <th>CarryAway_never</th>\n",
              "      <th>RestaurantLessThan20_1~3</th>\n",
              "      <th>RestaurantLessThan20_4~8</th>\n",
              "      <th>RestaurantLessThan20_gt8</th>\n",
              "      <th>RestaurantLessThan20_less1</th>\n",
              "      <th>RestaurantLessThan20_never</th>\n",
              "      <th>Restaurant20To50_1~3</th>\n",
              "      <th>Restaurant20To50_4~8</th>\n",
              "      <th>Restaurant20To50_gt8</th>\n",
              "      <th>Restaurant20To50_less1</th>\n",
              "      <th>Restaurant20To50_never</th>\n",
              "    </tr>\n",
              "  </thead>\n",
              "  <tbody>\n",
              "    <tr>\n",
              "      <th>0</th>\n",
              "      <td>55</td>\n",
              "      <td>1</td>\n",
              "      <td>0</td>\n",
              "      <td>0</td>\n",
              "      <td>0</td>\n",
              "      <td>1</td>\n",
              "      <td>1</td>\n",
              "      <td>0</td>\n",
              "      <td>1</td>\n",
              "      <td>0</td>\n",
              "      <td>1</td>\n",
              "      <td>0</td>\n",
              "      <td>0</td>\n",
              "      <td>0</td>\n",
              "      <td>0</td>\n",
              "      <td>0</td>\n",
              "      <td>1</td>\n",
              "      <td>0</td>\n",
              "      <td>0</td>\n",
              "      <td>1</td>\n",
              "      <td>0</td>\n",
              "      <td>0</td>\n",
              "      <td>0</td>\n",
              "      <td>0</td>\n",
              "      <td>0</td>\n",
              "      <td>...</td>\n",
              "      <td>0</td>\n",
              "      <td>0</td>\n",
              "      <td>0</td>\n",
              "      <td>0</td>\n",
              "      <td>1</td>\n",
              "      <td>0</td>\n",
              "      <td>0</td>\n",
              "      <td>0</td>\n",
              "      <td>0</td>\n",
              "      <td>1</td>\n",
              "      <td>0</td>\n",
              "      <td>0</td>\n",
              "      <td>0</td>\n",
              "      <td>0</td>\n",
              "      <td>0</td>\n",
              "      <td>0</td>\n",
              "      <td>1</td>\n",
              "      <td>0</td>\n",
              "      <td>0</td>\n",
              "      <td>0</td>\n",
              "      <td>1</td>\n",
              "      <td>0</td>\n",
              "      <td>0</td>\n",
              "      <td>0</td>\n",
              "      <td>0</td>\n",
              "    </tr>\n",
              "    <tr>\n",
              "      <th>1</th>\n",
              "      <td>80</td>\n",
              "      <td>1</td>\n",
              "      <td>0</td>\n",
              "      <td>0</td>\n",
              "      <td>0</td>\n",
              "      <td>1</td>\n",
              "      <td>0</td>\n",
              "      <td>0</td>\n",
              "      <td>1</td>\n",
              "      <td>0</td>\n",
              "      <td>0</td>\n",
              "      <td>1</td>\n",
              "      <td>0</td>\n",
              "      <td>0</td>\n",
              "      <td>0</td>\n",
              "      <td>0</td>\n",
              "      <td>1</td>\n",
              "      <td>1</td>\n",
              "      <td>0</td>\n",
              "      <td>0</td>\n",
              "      <td>0</td>\n",
              "      <td>0</td>\n",
              "      <td>0</td>\n",
              "      <td>0</td>\n",
              "      <td>1</td>\n",
              "      <td>...</td>\n",
              "      <td>0</td>\n",
              "      <td>0</td>\n",
              "      <td>0</td>\n",
              "      <td>0</td>\n",
              "      <td>1</td>\n",
              "      <td>0</td>\n",
              "      <td>0</td>\n",
              "      <td>0</td>\n",
              "      <td>0</td>\n",
              "      <td>1</td>\n",
              "      <td>0</td>\n",
              "      <td>0</td>\n",
              "      <td>0</td>\n",
              "      <td>0</td>\n",
              "      <td>0</td>\n",
              "      <td>0</td>\n",
              "      <td>1</td>\n",
              "      <td>0</td>\n",
              "      <td>0</td>\n",
              "      <td>0</td>\n",
              "      <td>1</td>\n",
              "      <td>0</td>\n",
              "      <td>0</td>\n",
              "      <td>0</td>\n",
              "      <td>0</td>\n",
              "    </tr>\n",
              "    <tr>\n",
              "      <th>2</th>\n",
              "      <td>80</td>\n",
              "      <td>1</td>\n",
              "      <td>1</td>\n",
              "      <td>0</td>\n",
              "      <td>0</td>\n",
              "      <td>1</td>\n",
              "      <td>1</td>\n",
              "      <td>0</td>\n",
              "      <td>1</td>\n",
              "      <td>0</td>\n",
              "      <td>0</td>\n",
              "      <td>1</td>\n",
              "      <td>0</td>\n",
              "      <td>0</td>\n",
              "      <td>0</td>\n",
              "      <td>0</td>\n",
              "      <td>1</td>\n",
              "      <td>1</td>\n",
              "      <td>0</td>\n",
              "      <td>0</td>\n",
              "      <td>0</td>\n",
              "      <td>0</td>\n",
              "      <td>0</td>\n",
              "      <td>1</td>\n",
              "      <td>0</td>\n",
              "      <td>...</td>\n",
              "      <td>0</td>\n",
              "      <td>0</td>\n",
              "      <td>0</td>\n",
              "      <td>0</td>\n",
              "      <td>1</td>\n",
              "      <td>0</td>\n",
              "      <td>0</td>\n",
              "      <td>0</td>\n",
              "      <td>0</td>\n",
              "      <td>1</td>\n",
              "      <td>0</td>\n",
              "      <td>0</td>\n",
              "      <td>0</td>\n",
              "      <td>0</td>\n",
              "      <td>0</td>\n",
              "      <td>0</td>\n",
              "      <td>1</td>\n",
              "      <td>0</td>\n",
              "      <td>0</td>\n",
              "      <td>0</td>\n",
              "      <td>1</td>\n",
              "      <td>0</td>\n",
              "      <td>0</td>\n",
              "      <td>0</td>\n",
              "      <td>0</td>\n",
              "    </tr>\n",
              "    <tr>\n",
              "      <th>3</th>\n",
              "      <td>80</td>\n",
              "      <td>1</td>\n",
              "      <td>1</td>\n",
              "      <td>0</td>\n",
              "      <td>0</td>\n",
              "      <td>1</td>\n",
              "      <td>0</td>\n",
              "      <td>0</td>\n",
              "      <td>1</td>\n",
              "      <td>0</td>\n",
              "      <td>0</td>\n",
              "      <td>1</td>\n",
              "      <td>0</td>\n",
              "      <td>0</td>\n",
              "      <td>0</td>\n",
              "      <td>0</td>\n",
              "      <td>1</td>\n",
              "      <td>0</td>\n",
              "      <td>0</td>\n",
              "      <td>1</td>\n",
              "      <td>0</td>\n",
              "      <td>0</td>\n",
              "      <td>0</td>\n",
              "      <td>0</td>\n",
              "      <td>1</td>\n",
              "      <td>...</td>\n",
              "      <td>0</td>\n",
              "      <td>0</td>\n",
              "      <td>0</td>\n",
              "      <td>0</td>\n",
              "      <td>1</td>\n",
              "      <td>0</td>\n",
              "      <td>0</td>\n",
              "      <td>0</td>\n",
              "      <td>0</td>\n",
              "      <td>1</td>\n",
              "      <td>0</td>\n",
              "      <td>0</td>\n",
              "      <td>0</td>\n",
              "      <td>0</td>\n",
              "      <td>0</td>\n",
              "      <td>0</td>\n",
              "      <td>1</td>\n",
              "      <td>0</td>\n",
              "      <td>0</td>\n",
              "      <td>0</td>\n",
              "      <td>1</td>\n",
              "      <td>0</td>\n",
              "      <td>0</td>\n",
              "      <td>0</td>\n",
              "      <td>0</td>\n",
              "    </tr>\n",
              "    <tr>\n",
              "      <th>4</th>\n",
              "      <td>80</td>\n",
              "      <td>1</td>\n",
              "      <td>1</td>\n",
              "      <td>0</td>\n",
              "      <td>0</td>\n",
              "      <td>1</td>\n",
              "      <td>0</td>\n",
              "      <td>0</td>\n",
              "      <td>1</td>\n",
              "      <td>0</td>\n",
              "      <td>0</td>\n",
              "      <td>1</td>\n",
              "      <td>0</td>\n",
              "      <td>0</td>\n",
              "      <td>0</td>\n",
              "      <td>0</td>\n",
              "      <td>1</td>\n",
              "      <td>0</td>\n",
              "      <td>0</td>\n",
              "      <td>1</td>\n",
              "      <td>0</td>\n",
              "      <td>0</td>\n",
              "      <td>0</td>\n",
              "      <td>0</td>\n",
              "      <td>1</td>\n",
              "      <td>...</td>\n",
              "      <td>0</td>\n",
              "      <td>0</td>\n",
              "      <td>0</td>\n",
              "      <td>0</td>\n",
              "      <td>1</td>\n",
              "      <td>0</td>\n",
              "      <td>0</td>\n",
              "      <td>0</td>\n",
              "      <td>0</td>\n",
              "      <td>1</td>\n",
              "      <td>0</td>\n",
              "      <td>0</td>\n",
              "      <td>0</td>\n",
              "      <td>0</td>\n",
              "      <td>0</td>\n",
              "      <td>0</td>\n",
              "      <td>1</td>\n",
              "      <td>0</td>\n",
              "      <td>0</td>\n",
              "      <td>0</td>\n",
              "      <td>1</td>\n",
              "      <td>0</td>\n",
              "      <td>0</td>\n",
              "      <td>0</td>\n",
              "      <td>0</td>\n",
              "    </tr>\n",
              "  </tbody>\n",
              "</table>\n",
              "<p>5 rows × 109 columns</p>\n",
              "</div>\n",
              "      <button class=\"colab-df-convert\" onclick=\"convertToInteractive('df-d1520eb5-9f75-4cd3-a471-54d9d695b9a0')\"\n",
              "              title=\"Convert this dataframe to an interactive table.\"\n",
              "              style=\"display:none;\">\n",
              "        \n",
              "  <svg xmlns=\"http://www.w3.org/2000/svg\" height=\"24px\"viewBox=\"0 0 24 24\"\n",
              "       width=\"24px\">\n",
              "    <path d=\"M0 0h24v24H0V0z\" fill=\"none\"/>\n",
              "    <path d=\"M18.56 5.44l.94 2.06.94-2.06 2.06-.94-2.06-.94-.94-2.06-.94 2.06-2.06.94zm-11 1L8.5 8.5l.94-2.06 2.06-.94-2.06-.94L8.5 2.5l-.94 2.06-2.06.94zm10 10l.94 2.06.94-2.06 2.06-.94-2.06-.94-.94-2.06-.94 2.06-2.06.94z\"/><path d=\"M17.41 7.96l-1.37-1.37c-.4-.4-.92-.59-1.43-.59-.52 0-1.04.2-1.43.59L10.3 9.45l-7.72 7.72c-.78.78-.78 2.05 0 2.83L4 21.41c.39.39.9.59 1.41.59.51 0 1.02-.2 1.41-.59l7.78-7.78 2.81-2.81c.8-.78.8-2.07 0-2.86zM5.41 20L4 18.59l7.72-7.72 1.47 1.35L5.41 20z\"/>\n",
              "  </svg>\n",
              "      </button>\n",
              "      \n",
              "  <style>\n",
              "    .colab-df-container {\n",
              "      display:flex;\n",
              "      flex-wrap:wrap;\n",
              "      gap: 12px;\n",
              "    }\n",
              "\n",
              "    .colab-df-convert {\n",
              "      background-color: #E8F0FE;\n",
              "      border: none;\n",
              "      border-radius: 50%;\n",
              "      cursor: pointer;\n",
              "      display: none;\n",
              "      fill: #1967D2;\n",
              "      height: 32px;\n",
              "      padding: 0 0 0 0;\n",
              "      width: 32px;\n",
              "    }\n",
              "\n",
              "    .colab-df-convert:hover {\n",
              "      background-color: #E2EBFA;\n",
              "      box-shadow: 0px 1px 2px rgba(60, 64, 67, 0.3), 0px 1px 3px 1px rgba(60, 64, 67, 0.15);\n",
              "      fill: #174EA6;\n",
              "    }\n",
              "\n",
              "    [theme=dark] .colab-df-convert {\n",
              "      background-color: #3B4455;\n",
              "      fill: #D2E3FC;\n",
              "    }\n",
              "\n",
              "    [theme=dark] .colab-df-convert:hover {\n",
              "      background-color: #434B5C;\n",
              "      box-shadow: 0px 1px 3px 1px rgba(0, 0, 0, 0.15);\n",
              "      filter: drop-shadow(0px 1px 2px rgba(0, 0, 0, 0.3));\n",
              "      fill: #FFFFFF;\n",
              "    }\n",
              "  </style>\n",
              "\n",
              "      <script>\n",
              "        const buttonEl =\n",
              "          document.querySelector('#df-d1520eb5-9f75-4cd3-a471-54d9d695b9a0 button.colab-df-convert');\n",
              "        buttonEl.style.display =\n",
              "          google.colab.kernel.accessAllowed ? 'block' : 'none';\n",
              "\n",
              "        async function convertToInteractive(key) {\n",
              "          const element = document.querySelector('#df-d1520eb5-9f75-4cd3-a471-54d9d695b9a0');\n",
              "          const dataTable =\n",
              "            await google.colab.kernel.invokeFunction('convertToInteractive',\n",
              "                                                     [key], {});\n",
              "          if (!dataTable) return;\n",
              "\n",
              "          const docLinkHtml = 'Like what you see? Visit the ' +\n",
              "            '<a target=\"_blank\" href=https://colab.research.google.com/notebooks/data_table.ipynb>data table notebook</a>'\n",
              "            + ' to learn more about interactive tables.';\n",
              "          element.innerHTML = '';\n",
              "          dataTable['output_type'] = 'display_data';\n",
              "          await google.colab.output.renderOutput(dataTable, element);\n",
              "          const docLink = document.createElement('div');\n",
              "          docLink.innerHTML = docLinkHtml;\n",
              "          element.appendChild(docLink);\n",
              "        }\n",
              "      </script>\n",
              "    </div>\n",
              "  </div>\n",
              "  "
            ]
          },
          "metadata": {},
          "execution_count": 15
        }
      ]
    },
    {
      "cell_type": "markdown",
      "source": [
        "#### Descripción de las variables restantes:\n",
        "- `destination` = Lugar de destino\n",
        "- `passanger` = Pasajeros con quien va acompañado\n",
        "- `weather` = Condición climática al conducir\n",
        "- `temperature` = Temperatura al momento de conducir\n",
        "- `time` = Hora en la que se le ofrece el cpón al conductor\n",
        "- `coupon` = Tipo de cupón a canjear\n",
        "- `expiration` = Caducidad del cupón en 1 día o 2 horas\n",
        "- `gender` = Género (Masculino o Femenino)\n",
        "- `age` = Edad\n",
        "- `maritalStatus` = Estado Civil\n",
        "- `has_children` = Tiene hijos\n",
        "- `education` = Grado de Educación\n",
        "- `occupation` = Ocupación u oficio\n",
        "- `income` = Renta Anual\n",
        "- `Bar` = ¿Cuántas veces va a un bar al mes?\n",
        "- `CoffeeHouse` = ¿Cuántas veces va a una cafetería al mes?\n",
        "- `CarryAway` = ¿Cuántas veces ordena comida para llevar al mes?\n",
        "- `RestaurantLessThan20` = ¿Cuántas veces ha ido a un restaurante con un gasto promedio de 20 dólares por persona al mes? \n",
        "- `Restaurant20To50` = ¿Cuántas veces ha ido a un restaurante con un gasto promedio entre 20 y 50 dólares por persona al mes?\n",
        "- `toCoupon_GEQ15min` = ¿Tarda más de 15 minutos en llegar al restaurante/bar para canjear el cupón?\n",
        "- `toCoupon_GEQ25min` = ¿Tarda más de 25 minutos en llegar al restaurante/bar para canjear el cupón?\n",
        "- `direction_same` = ¿El restaurante/bar está en la misma dirección que su destino actual?\n",
        "- `direction_opp` = ¿El restaurante/bar está en diferente dirección a su destino actual? \n",
        "- `Y` = Acepta el cupón."
      ],
      "metadata": {
        "id": "HI437TkwqPL2"
      }
    },
    {
      "cell_type": "markdown",
      "source": [
        "#5. Experimentación"
      ],
      "metadata": {
        "id": "XFfIxWyCpKU8"
      }
    },
    {
      "cell_type": "code",
      "source": [
        "#Separamos la data en X y variable objetivo\n",
        "X = data.drop([\"Y\"], axis=1)\n",
        "y = data[\"Y\"]\n",
        "print(X.shape, y.shape)"
      ],
      "metadata": {
        "id": "gS9VJRtWpNEj",
        "colab": {
          "base_uri": "https://localhost:8080/"
        },
        "outputId": "a94d84df-4850-4828-8223-f352f7911c02"
      },
      "execution_count": 16,
      "outputs": [
        {
          "output_type": "stream",
          "name": "stdout",
          "text": [
            "(12610, 108) (12610,)\n"
          ]
        }
      ]
    },
    {
      "cell_type": "code",
      "source": [
        "from sklearn.model_selection import train_test_split, cross_val_score\n",
        "#separando data de entrenamiento y validacion\n",
        "X_train, X_test, y_train, y_test = train_test_split(X,y, test_size = 0.2, random_state = 33, shuffle = True, stratify = y)\n",
        "print(X_train.shape, X_test.shape, y_train.shape, y_test.shape)"
      ],
      "metadata": {
        "colab": {
          "base_uri": "https://localhost:8080/"
        },
        "id": "RnIdH8wbaOhF",
        "outputId": "f7774ee7-f255-45f5-b87e-024294a97332"
      },
      "execution_count": 17,
      "outputs": [
        {
          "output_type": "stream",
          "name": "stdout",
          "text": [
            "(10088, 108) (2522, 108) (10088,) (2522,)\n"
          ]
        }
      ]
    },
    {
      "cell_type": "code",
      "source": [
        "from sklearn.svm import SVC\n",
        "Cs = [0.1, 1.0, 5.0, 10.0, 15.0, 20.0, 30.0] \n",
        "#escogiendo el C y gamma para el un machine guassiano\n",
        "mejor_modelo = None\n",
        "mejor_score = 0\n",
        "for C in Cs:        \n",
        "        model = SVC(kernel='rbf', C=C)\n",
        "        model.fit(X_train, y_train)\n",
        "        \n",
        "        score_val = model.score(X_test, y_test)\n",
        "        print('score val:',C,score_val)\n",
        "        if score_val > mejor_score:\n",
        "            mejor_score = score_val\n",
        "            mejor_modelo = model\n"
      ],
      "metadata": {
        "colab": {
          "base_uri": "https://localhost:8080/"
        },
        "id": "imCHPgBKbLVG",
        "outputId": "3db3d4a3-9ad4-4cdb-adb0-4426c46ace54"
      },
      "execution_count": 18,
      "outputs": [
        {
          "output_type": "stream",
          "name": "stdout",
          "text": [
            "score val: 0.1 0.5674068199841396\n",
            "score val: 1.0 0.5721649484536082\n",
            "score val: 5.0 0.6859635210150674\n",
            "score val: 10.0 0.6962727993655828\n",
            "score val: 15.0 0.6931007137192704\n",
            "score val: 20.0 0.6942902458366376\n",
            "score val: 30.0 0.6923076923076923\n"
          ]
        }
      ]
    },
    {
      "cell_type": "code",
      "source": [
        "print ('Mejor valor de C: %0.4f' % mejor_modelo.get_params()['C'])\n",
        "print ('Exactitud en el conjunto de entrenamiento: %0.4f' % mejor_modelo.score(X_train, y_train))\n",
        "print ('Exactitud en el conjunto de validación: %0.4f' % mejor_modelo.score(X_test, y_test))"
      ],
      "metadata": {
        "colab": {
          "base_uri": "https://localhost:8080/"
        },
        "id": "Jl7z8XokjCnW",
        "outputId": "592eef73-636a-4f37-acb9-a8c1a6c16f0d"
      },
      "execution_count": 19,
      "outputs": [
        {
          "output_type": "stream",
          "name": "stdout",
          "text": [
            "Mejor valor de C: 10.0000\n",
            "Exactitud en el conjunto de entrenamiento: 0.6886\n",
            "Exactitud en el conjunto de validación: 0.6963\n"
          ]
        }
      ]
    },
    {
      "cell_type": "code",
      "source": [
        "gammas = np.logspace(-4,4,9)  # [0.0001, 0.001, ..., 10000]\n",
        "for gamma in gammas:\n",
        "        \n",
        "        model = SVC(kernel='rbf', C=10.0, gamma=gamma)\n",
        "        model.fit(X_train, y_train)\n",
        "        \n",
        "        score_val = model.score(X_test, y_test)\n",
        "        \n",
        "        if score_val > mejor_score:\n",
        "            mejor_score = score_val\n",
        "            mejor_modelo = model"
      ],
      "metadata": {
        "id": "MuPrtbNYM9jP"
      },
      "execution_count": 20,
      "outputs": []
    },
    {
      "cell_type": "code",
      "source": [
        "print ('Mejor valor de gamma: %0.4f' % mejor_modelo.get_params()['gamma'])\n",
        "print ('Exactitud en el conjunto de entrenamiento: %0.4f' % mejor_modelo.score(X_train, y_train))\n",
        "print ('Exactitud en el conjunto de validación: %0.4f' % mejor_modelo.score(X_test, y_test))"
      ],
      "metadata": {
        "colab": {
          "base_uri": "https://localhost:8080/"
        },
        "id": "Q1DwJXLWNQlw",
        "outputId": "05cc7422-b1f9-4991-de3d-6ad78a52138d"
      },
      "execution_count": 21,
      "outputs": [
        {
          "output_type": "stream",
          "name": "stdout",
          "text": [
            "Mejor valor de gamma: 0.1000\n",
            "Exactitud en el conjunto de entrenamiento: 0.9955\n",
            "Exactitud en el conjunto de validación: 0.7359\n"
          ]
        }
      ]
    },
    {
      "cell_type": "code",
      "source": [
        "from sklearn.metrics import roc_auc_score, accuracy_score\n",
        "clf = SVC(kernel='rbf', C=20.0,gamma=0.10)\n",
        "\n",
        "clf.fit(X_train, y_train)\n",
        "y_pred = clf.predict(X_test)\n",
        "\n",
        "print('Accuracy on test set: ', accuracy_score(y_test, y_pred))\n",
        "print('ROC AUC on test set: ', roc_auc_score(y_test, y_pred))"
      ],
      "metadata": {
        "colab": {
          "base_uri": "https://localhost:8080/"
        },
        "id": "R6gK-cUwnmp-",
        "outputId": "56127535-6cc5-4bc0-d2a3-019a13f530df"
      },
      "execution_count": 22,
      "outputs": [
        {
          "output_type": "stream",
          "name": "stdout",
          "text": [
            "Accuracy on test set:  0.7339413164155432\n",
            "ROC AUC on test set:  0.7277640385313803\n"
          ]
        }
      ]
    },
    {
      "cell_type": "code",
      "source": [
        "from sklearn.metrics import plot_confusion_matrix\n",
        "\n",
        "plot_confusion_matrix(clf, X_test, y_test)"
      ],
      "metadata": {
        "colab": {
          "base_uri": "https://localhost:8080/",
          "height": 526
        },
        "id": "D-DAXDekoFtJ",
        "outputId": "3e2a8ee7-d4d5-4a01-93bf-dfe7b7d43f08"
      },
      "execution_count": 23,
      "outputs": [
        {
          "output_type": "stream",
          "name": "stderr",
          "text": [
            "/usr/local/lib/python3.7/dist-packages/sklearn/utils/deprecation.py:87: FutureWarning: Function plot_confusion_matrix is deprecated; Function `plot_confusion_matrix` is deprecated in 1.0 and will be removed in 1.2. Use one of the class methods: ConfusionMatrixDisplay.from_predictions or ConfusionMatrixDisplay.from_estimator.\n",
            "  warnings.warn(msg, category=FutureWarning)\n"
          ]
        },
        {
          "output_type": "execute_result",
          "data": {
            "text/plain": [
              "<sklearn.metrics._plot.confusion_matrix.ConfusionMatrixDisplay at 0x7f2d45288b90>"
            ]
          },
          "metadata": {},
          "execution_count": 23
        },
        {
          "output_type": "display_data",
          "data": {
            "text/plain": [
              "<Figure size 640x480 with 2 Axes>"
            ],
            "image/png": "[encoded data removed]"
          },
          "metadata": {}
        }
      ]
    },
    {
      "cell_type": "code",
      "source": [
        "scores = cross_val_score(\n",
        "        clf, X_test, y_test, cv=10, n_jobs=-1,\n",
        "        scoring='roc_auc'\n",
        "    )\n",
        "    \n"
      ],
      "metadata": {
        "id": "pKjvoxCIoWDe"
      },
      "execution_count": 24,
      "outputs": []
    },
    {
      "cell_type": "code",
      "source": [
        "scores.mean(), scores.std()"
      ],
      "metadata": {
        "id": "xXWLMXgDoszV",
        "outputId": "43a5fe4e-2c47-462e-cd6a-22a5d939fedd",
        "colab": {
          "base_uri": "https://localhost:8080/"
        }
      },
      "execution_count": 25,
      "outputs": [
        {
          "output_type": "execute_result",
          "data": {
            "text/plain": [
              "(0.7155177059295075, 0.031365882734840915)"
            ]
          },
          "metadata": {},
          "execution_count": 25
        }
      ]
    }
  ]
}